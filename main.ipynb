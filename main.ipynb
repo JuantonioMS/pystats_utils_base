{
 "cells": [
  {
   "cell_type": "code",
   "execution_count": 64,
   "metadata": {},
   "outputs": [],
   "source": [
    "from pystats_utils.utils.patient import Patient\n",
    "\n",
    "import pandas as pd\n",
    "\n",
    "data = pd.read_csv(\"./test/database/treatment.csv\",\n",
    "                   sep = \"\\t\")\n",
    "data = data[data[\"Cohort_Treatment\"] == \"yes\"]\n",
    "data = data[data[\"Cohort_Cazavi\"] == \"no\"]\n",
    "\n",
    "patients = []\n",
    "for index, row in data.iterrows():\n",
    "    patients.append(Patient(row))"
   ]
  },
  {
   "cell_type": "code",
   "execution_count": 65,
   "metadata": {},
   "outputs": [
    {
     "name": "stdout",
     "output_type": "stream",
     "text": [
      "46 [{'Inactive'}, {'Caz-avi', 'Inactive'}, {'Caz-avi', 'Meropenem'}, {'Meropenem'}, {'Meropenem'}, {'Meropenem'}, {'Meropenem'}, {'Meropenem'}, {'Meropenem'}, {'Meropenem'}]\n",
      "116 [{'Ceftriaxone'}, {'Ceftriaxone', 'Inactive'}, {'Inactive'}, {'Caz-avi', 'Inactive'}, {'Ceftriaxone', 'Caz-avi'}, {'Ceftriaxone'}, {'Ceftriaxone'}, {'Ceftriaxone'}, {'Ceftriaxone'}, {'Ceftriaxone'}, {'Ceftriaxone'}, {'Ceftriaxone', 'Cefixime'}, {'Cefixime'}, {'Cefixime'}, {'Cefixime'}, {'Cefixime'}, {'Cefixime'}, {'Cefixime'}, {'Cefixime'}, {'Cefixime'}, {'Cefixime'}, {'Cefixime'}, {'Cefixime'}, {'Cefixime'}, {'Cefixime'}, {'Cefixime'}, {'Cefixime'}, {'Cefixime'}, {'Cefixime'}, {'Cefixime'}]\n"
     ]
    }
   ],
   "source": [
    "for patient in patients:\n",
    "    treatment = patient.translateTreatmentLine(only = \"all\",\n",
    "                                               condensed = False)\n",
    "\n",
    "    test = [i for j in treatment for i in j]\n",
    "\n",
    "    if \"Caz-avi\" in test: print(patient.pt, treatment)"
   ]
  },
  {
   "cell_type": "code",
   "execution_count": 74,
   "metadata": {},
   "outputs": [
    {
     "name": "stderr",
     "output_type": "stream",
     "text": [
      "/home/virtualvikings/anaconda3/lib/python3.9/site-packages/plotnine/ggplot.py:719: PlotnineWarning: Saving 20 x 20 in image.\n",
      "/home/virtualvikings/anaconda3/lib/python3.9/site-packages/plotnine/ggplot.py:722: PlotnineWarning: Filename: treatment_cazavi.png\n",
      "/home/virtualvikings/anaconda3/lib/python3.9/site-packages/plotnine/ggplot.py:719: PlotnineWarning: Saving 20 x 20 in image.\n",
      "/home/virtualvikings/anaconda3/lib/python3.9/site-packages/plotnine/ggplot.py:722: PlotnineWarning: Filename: treatment_bat.png\n",
      "/home/virtualvikings/anaconda3/lib/python3.9/site-packages/plotnine/ggplot.py:719: PlotnineWarning: Saving 20 x 20 in image.\n",
      "/home/virtualvikings/anaconda3/lib/python3.9/site-packages/plotnine/ggplot.py:722: PlotnineWarning: Filename: treatment_cazavi_alive.png\n",
      "/home/virtualvikings/anaconda3/lib/python3.9/site-packages/plotnine/ggplot.py:719: PlotnineWarning: Saving 20 x 20 in image.\n",
      "/home/virtualvikings/anaconda3/lib/python3.9/site-packages/plotnine/ggplot.py:722: PlotnineWarning: Filename: treatment_bat_alive.png\n"
     ]
    }
   ],
   "source": [
    "import pandas as pd\n",
    "from pystats_utils.utils.patient import Patient\n",
    "from pystats_utils.utils.treatment_plot import generatePlot\n",
    "\n",
    "data = pd.read_csv(\"./test/database/treatment.csv\",\n",
    "                   sep = \"\\t\")\n",
    "data = data[data[\"Cohort_Treatment\"] == \"yes\"]\n",
    "#data = data[data[\"Mortality_31d\"] == \"no\"]\n",
    "data = data[data[\"Cohort_Cazavi\"] == \"yes\"]\n",
    "\n",
    "patients = []\n",
    "for index, row in data.iterrows():\n",
    "\n",
    "    patient = Patient(row)\n",
    "\n",
    "    patients.append(patient)\n",
    "\n",
    "a = generatePlot(patients, days = 30, title = \"Caz-avi Cohort\")\n",
    "\n",
    "a.save('treatment_cazavi.png', dpi=300)\n",
    "\n",
    "data = pd.read_csv(\"./test/database/treatment.csv\",\n",
    "                   sep = \"\\t\")\n",
    "data = data[data[\"Cohort_Treatment\"] == \"yes\"]\n",
    "#data = data[data[\"Mortality_31d\"] == \"no\"]\n",
    "data = data[data[\"Cohort_Cazavi\"] == \"no\"]\n",
    "\n",
    "patients = []\n",
    "for index, row in data.iterrows():\n",
    "\n",
    "    patient = Patient(row)\n",
    "\n",
    "    patients.append(patient)\n",
    "\n",
    "a = generatePlot(patients, days = 30, title = \"BAT Cohort\")\n",
    "a.save('treatment_bat.png', dpi=300)\n",
    "\n",
    "\n",
    "data = pd.read_csv(\"./test/database/treatment.csv\",\n",
    "                   sep = \"\\t\")\n",
    "data = data[data[\"Cohort_Treatment\"] == \"yes\"]\n",
    "data = data[data[\"Mortality_31d\"] == \"no\"]\n",
    "data = data[data[\"Cohort_Cazavi\"] == \"yes\"]\n",
    "\n",
    "patients = []\n",
    "for index, row in data.iterrows():\n",
    "\n",
    "    patient = Patient(row)\n",
    "\n",
    "    patients.append(patient)\n",
    "\n",
    "a = generatePlot(patients, days = 30, title = \"Caz-avi Cohort alive\")\n",
    "a.save('treatment_cazavi_alive.png', dpi=300)\n",
    "\n",
    "\n",
    "data = pd.read_csv(\"./test/database/treatment.csv\",\n",
    "                   sep = \"\\t\")\n",
    "data = data[data[\"Cohort_Treatment\"] == \"yes\"]\n",
    "data = data[data[\"Mortality_31d\"] == \"no\"]\n",
    "data = data[data[\"Cohort_Cazavi\"] == \"no\"]\n",
    "\n",
    "patients = []\n",
    "for index, row in data.iterrows():\n",
    "\n",
    "    patient = Patient(row)\n",
    "\n",
    "    patients.append(patient)\n",
    "\n",
    "a = generatePlot(patients, days = 30, title = \"BAT Cohort alive\")\n",
    "a.save('treatment_bat_alive.png', dpi=300)\n"
   ]
  }
 ],
 "metadata": {
  "kernelspec": {
   "display_name": "Python 3.9.12 ('base')",
   "language": "python",
   "name": "python3"
  },
  "language_info": {
   "codemirror_mode": {
    "name": "ipython",
    "version": 3
   },
   "file_extension": ".py",
   "mimetype": "text/x-python",
   "name": "python",
   "nbconvert_exporter": "python",
   "pygments_lexer": "ipython3",
   "version": "3.9.12"
  },
  "orig_nbformat": 4,
  "vscode": {
   "interpreter": {
    "hash": "c6419cd88096051f2b8e0b907ff5b04bae72020eb3232c0d202c883720bba66e"
   }
  }
 },
 "nbformat": 4,
 "nbformat_minor": 2
}
